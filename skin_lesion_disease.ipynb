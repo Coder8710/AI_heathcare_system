{
 "cells": [
  {
   "cell_type": "code",
   "execution_count": 1,
   "id": "29d273b2-37e4-41bb-9553-82bbfc1bf926",
   "metadata": {},
   "outputs": [
    {
     "name": "stderr",
     "output_type": "stream",
     "text": [
      "C:\\Users\\ommic\\anaconda3\\Lib\\site-packages\\keras\\src\\saving\\saving_lib.py:757: UserWarning: Skipping variable loading for optimizer 'rmsprop', because it has 12 variables whereas the saved optimizer has 22 variables. \n",
      "  saveable.load_own_variables(weights_store.get(inner_path))\n"
     ]
    }
   ],
   "source": [
    "from tensorflow.keras.models import load_model\n",
    "\n",
    "model = load_model('skin_disease_model.keras')\n"
   ]
  },
  {
   "cell_type": "code",
   "execution_count": 5,
   "id": "411abc21-bff5-452f-9ea5-19e54c824e8d",
   "metadata": {},
   "outputs": [],
   "source": [
    "import joblib\n",
    "\n",
    "# Load your trained LabelEncoder\n",
    "le = joblib.load('label_encoder.pkl')"
   ]
  },
  {
   "cell_type": "code",
   "execution_count": 13,
   "id": "688d023c-c568-4336-9e82-e08981257535",
   "metadata": {},
   "outputs": [
    {
     "name": "stdout",
     "output_type": "stream",
     "text": [
      "\u001b[1m1/1\u001b[0m \u001b[32m━━━━━━━━━━━━━━━━━━━━\u001b[0m\u001b[37m\u001b[0m \u001b[1m0s\u001b[0m 41ms/step\n",
      "The predicted class for the image is: df\n"
     ]
    }
   ],
   "source": [
    "import numpy as np\n",
    "from tensorflow.keras.models import load_model  # If you saved your model\n",
    "from tensorflow.keras.preprocessing.image import load_img, img_to_array\n",
    "\n",
    "# Function to preprocess the image\n",
    "def preprocess_image(image_path):\n",
    "    # Load the image with target size (32, 32)\n",
    "    img = load_img(image_path, target_size=(32, 32))\n",
    "    \n",
    "    # Convert the image to an array\n",
    "    img_array = img_to_array(img)\n",
    "    \n",
    "    # Scale pixel values to [0, 1]\n",
    "    img_array = img_array / 255.0\n",
    "    \n",
    "    # Expand dimensions to match the input shape of the model (1, 32, 32, 3)\n",
    "    img_array = np.expand_dims(img_array, axis=0)\n",
    "    \n",
    "    return img_array\n",
    "\n",
    "# Path to the new image you want to classify\n",
    "new_image_path = r\"C:\Users\ommic\Downloads\df_google.jpg"\n",
    "\n",
    "# Preprocess the new image\n",
    "processed_image = preprocess_image(new_image_path)\n",
    "\n",
    "# Make prediction\n",
    "predictions = model.predict(processed_image)\n",
    "\n",
    "# Get the predicted class\n",
    "predicted_class = np.argmax(predictions, axis=1)\n",
    "\n",
    "# Map the predicted class back to the label (if needed)\n",
    "class_labels = list(le.classes_)  # Assuming 'le' is your LabelEncoder from training\n",
    "predicted_label = class_labels[predicted_class[0]]\n",
    "\n",
    "print(f\"The predicted class for the image is: {predicted_label}\")"
   ]
  },
  {
   "cell_type": "code",
   "execution_count": null,
   "id": "e8c49f65-3f29-4c54-ab39-dbd125cb3e88",
   "metadata": {},
   "outputs": [],
   "source": []
  }
 ],
 "metadata": {
  "kernelspec": {
   "display_name": "Python 3 (ipykernel)",
   "language": "python",
   "name": "python3"
  },
  "language_info": {
   "codemirror_mode": {
    "name": "ipython",
    "version": 3
   },
   "file_extension": ".py",
   "mimetype": "text/x-python",
   "name": "python",
   "nbconvert_exporter": "python",
   "pygments_lexer": "ipython3",
   "version": "3.12.4"
  }
 },
 "nbformat": 4,
 "nbformat_minor": 5
}
